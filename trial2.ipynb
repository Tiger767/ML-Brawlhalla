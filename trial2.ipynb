{
 "cells": [
  {
   "cell_type": "markdown",
   "metadata": {},
   "source": [
    "# ML-Brawlhalla: Trial 2"
   ]
  },
  {
   "cell_type": "markdown",
   "metadata": {},
   "source": [
    "## Import Packages\n",
    "The environment module is not included in this code, so that results cannot be abused."
   ]
  },
  {
   "cell_type": "code",
   "execution_count": null,
   "metadata": {},
   "outputs": [],
   "source": [
    "from tensorflow import keras\n",
    "\n",
    "from paiutils import neural_network as nn\n",
    "from paiutils import reinforcement as rl\n",
    "\n",
    "from environment import BrawlhallaFollow as Brawlhalla"
   ]
  },
  {
   "cell_type": "markdown",
   "metadata": {},
   "source": [
    "## Create Environment"
   ]
  },
  {
   "cell_type": "code",
   "execution_count": null,
   "metadata": {},
   "outputs": [],
   "source": [
    "env = Brawlhalla(stack_size=3)\n",
    "max_steps = 100000"
   ]
  },
  {
   "cell_type": "markdown",
   "metadata": {},
   "source": [
    "## Create the Model"
   ]
  },
  {
   "cell_type": "code",
   "execution_count": null,
   "metadata": {},
   "outputs": [],
   "source": [
    "inputs = keras.layers.Input((64, 64, 3))\n",
    "x = nn.conv2d(32, 5, 2)(inputs)\n",
    "x = nn.conv2d(64, 3, 2)(x)\n",
    "x = nn.conv2d(128, 3, 2)(x)\n",
    "x = nn.conv2d(256, 3, 2)(x)\n",
    "x = nn.conv2d(512, 3, 2)(x)\n",
    "x = keras.layers.Flatten()(x)\n",
    "outputs = keras.layers.Dense(7, activation='softmax')(x)\n",
    "model = keras.models.Model(inputs=inputs, outputs=outputs)\n",
    "model.compile(optimizer=keras.optimizers.Adam(.0002), loss='mse')\n",
    "model.summary()"
   ]
  },
  {
   "cell_type": "markdown",
   "metadata": {},
   "source": [
    "## Create the Agent"
   ]
  },
  {
   "cell_type": "code",
   "execution_count": null,
   "metadata": {},
   "outputs": [],
   "source": [
    "def create_memory(shape, dtype):\n",
    "    return rl.Memory()\n",
    "\n",
    "agent = rl.PGAgent(model, .99, create_memory=create_memory)"
   ]
  },
  {
   "cell_type": "markdown",
   "metadata": {},
   "source": [
    "## Train the Agent"
   ]
  },
  {
   "cell_type": "code",
   "execution_count": null,
   "metadata": {},
   "outputs": [],
   "source": [
    "agent.set_playing_data(memorizing=True, verbose=True)\n",
    "env.play_episodes(agent, 5, max_steps, random=True,\n",
    "                  verbose=True, episode_verbose=True)\n",
    "\n",
    "agent.set_playing_data(\n",
    "    training=True, memorizing=True, batch_size=64,\n",
    "    mini_batch=12800, epochs=1, repeat=1,\n",
    "    entropy_coef=0, verbose=True\n",
    ")\n",
    "save_dir = 'saves/'\n",
    "num_episodes = 10\n",
    "for ndx in range(8):\n",
    "    print(f'Save Loop: {ndx}')\n",
    "    result = env.play_episodes(\n",
    "        agent, num_episodes, max_steps,\n",
    "        verbose=True, episode_verbose=True\n",
    "    )\n",
    "    agent.save(save_dir, note=f'PG_{ndx}_{result}')"
   ]
  },
  {
   "cell_type": "markdown",
   "metadata": {},
   "source": [
    "## Test the Agent"
   ]
  },
  {
   "cell_type": "code",
   "execution_count": null,
   "metadata": {},
   "outputs": [],
   "source": [
    "agent.load(save_dir + 'pg_80', load_data=False)\n",
    "agent.set_playing_data(training=False, memorizing=False)\n",
    "env.play_episodes(agent, 20, 10000, verbose=True,\n",
    "                  episode_verbose=False)"
   ]
  }
 ],
 "metadata": {
  "kernelspec": {
   "display_name": "Python 3",
   "language": "python",
   "name": "python3"
  },
  "language_info": {
   "codemirror_mode": {
    "name": "ipython",
    "version": 3
   },
   "file_extension": ".py",
   "mimetype": "text/x-python",
   "name": "python",
   "nbconvert_exporter": "python",
   "pygments_lexer": "ipython3",
   "version": "3.7.9"
  }
 },
 "nbformat": 4,
 "nbformat_minor": 4
}
